{
 "cells": [
  {
   "cell_type": "markdown",
   "id": "4983eadc",
   "metadata": {
    "editable": true
   },
   "source": [
    "<!-- HTML file automatically generated from DocOnce source (https://github.com/doconce/doconce/)\n",
    "doconce format html newprogram.do.txt --no_mako -->\n",
    "<!-- dom:TITLE: Master and bachelor programs in quantum technologies -->"
   ]
  },
  {
   "cell_type": "markdown",
   "id": "f0fbe331",
   "metadata": {
    "editable": true
   },
   "source": [
    "# Master and bachelor programs in quantum technologies\n",
    "**Morten Hjorth-Jensen**, Department of Physics, UiO\n",
    "\n",
    "Date: **October 27, 2025**"
   ]
  },
  {
   "cell_type": "markdown",
   "id": "7abfc210",
   "metadata": {
    "editable": true
   },
   "source": [
    "## Possible paths\n",
    "\n",
    "**Alternative 1.**\n",
    "\n",
    "1. Keep present study direction under the Physics and Astronomy (PA) BSc program called\n",
    "\n",
    "  * **Quantum technology**, but increase number of students\n",
    "\n",
    "2. Similarly, keep existing study direction under the Physics master of Science program\n",
    "\n",
    "  * **Quantum Science and Quantum Technology**, but increase number of students\n",
    "\n",
    "3. And do the same for the CS program with the study direction\n",
    "\n",
    "  * **Quantum Information Science and Technology**, but increase number of students"
   ]
  },
  {
   "cell_type": "markdown",
   "id": "84250fa2",
   "metadata": {
    "editable": true
   },
   "source": [
    "## Second alternative\n",
    "\n",
    "**Alternative 2.**\n",
    "\n",
    "1. Keep present study direction under the Physics and Astronomy (PA) BSc program called\n",
    "\n",
    "  * **Quantum technology**, but increase number of students\n",
    "\n",
    "2. Create a new master of science program called\n",
    "\n",
    "  * **Quantum Science and Technology** (or something similar)\n",
    "\n",
    "This will have as a consequence that one may eventually drop the study directions in the CS and Physics MSc programs (see below)."
   ]
  },
  {
   "cell_type": "markdown",
   "id": "8ba7d29a",
   "metadata": {
    "editable": true
   },
   "source": [
    "## Third  alternative\n",
    "\n",
    "**Alternative 3.**\n",
    "\n",
    "1. New bachelor program \n",
    "\n",
    "  * **Quantum Science and Technology** (or something similar)\n",
    "\n",
    "2. Create a new master of science program called\n",
    "\n",
    "  * **Quantum Science and Technology** (or something similar)\n",
    "\n",
    "This will have as a consequence that one may eventually drop the study directions in the CS and Physics MSc programs (see below)."
   ]
  },
  {
   "cell_type": "markdown",
   "id": "64ca3326",
   "metadata": {
    "editable": true
   },
   "source": [
    "## New master of science program\n",
    "\n",
    "**Quantum Science and Technology**, as a multidisciplinary endeavor (much along the same lines as the CS program)\n",
    "**Collaboration with four possible departments.**\n",
    "\n",
    " * Department of Chemistry (quantum chemistry and Hyllerås center, Simen Kvaal and Thomas B. Pedersen, plus several PDs and PhDs)\n",
    "\n",
    " * Department of Informatics (cryptography, cyber security, Audun Jøsang)\n",
    "\n",
    " * Department of Mathematics (quantum information theory, operator algebra group, Alexander Muller-Hermes, Nadia S. Larsen, Eric Bedos and Sergiy Neshveyev plus several PhDs and PDs)\n",
    "\n",
    " * Department of Physics (theory and experiment, several professors, PDs and PhDs, largest activity )\n",
    "\n",
    "The program is hosted by the department of Physics."
   ]
  },
  {
   "cell_type": "markdown",
   "id": "3686ee33",
   "metadata": {
    "editable": true
   },
   "source": [
    "## Core mission of the program\n",
    "\n",
    "The master program provides advanced knowledge to develop\n",
    "cutting-edge theoretical and experimental research in quantum\n",
    "simulation, quantum computing, quantum sensors, quantum communications\n",
    "and purely formal theoretical aspects.\n",
    "\n",
    "Various universities, research centres and companies may actively\n",
    "participate in teaching the master's degree."
   ]
  },
  {
   "cell_type": "markdown",
   "id": "f8f1c6ad",
   "metadata": {
    "editable": true
   },
   "source": [
    "## Other universities and research centers\n",
    "\n",
    "1. OsloMet\n",
    "\n",
    "2. Simula research lab\n",
    "\n",
    "3. Sintef\n",
    "\n",
    "4. Justervesenet\n",
    "\n",
    "5. USN\n",
    "\n",
    "6. FFI and more"
   ]
  }
 ],
 "metadata": {},
 "nbformat": 4,
 "nbformat_minor": 5
}
